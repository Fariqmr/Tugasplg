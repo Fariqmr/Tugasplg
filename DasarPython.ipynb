{
  "nbformat": 4,
  "nbformat_minor": 0,
  "metadata": {
    "colab": {
      "provenance": [],
      "authorship_tag": "ABX9TyNO0Ra8iVgUMILe9ZUEBK9S",
      "include_colab_link": true
    },
    "kernelspec": {
      "name": "python3",
      "display_name": "Python 3"
    },
    "language_info": {
      "name": "python"
    }
  },
  "cells": [
    {
      "cell_type": "markdown",
      "metadata": {
        "id": "view-in-github",
        "colab_type": "text"
      },
      "source": [
        "<a href=\"https://colab.research.google.com/github/Fariqmr/Tugasplg/blob/main/DasarPython.ipynb\" target=\"_parent\"><img src=\"https://colab.research.google.com/assets/colab-badge.svg\" alt=\"Open In Colab\"/></a>"
      ]
    },
    {
      "cell_type": "markdown",
      "source": [
        "#Variabel\n",
        "\n",
        "variable adalah sesuatu yang dapat berubah. Variabel ini digunakan untuk merujuk menuju lokasi memori oleh program komputer.\n",
        "\n",
        "**Integer**\n",
        "\n",
        "Integer adalah angka numerik yang dapat berupa nilai positif, negatif, atau nol tanpa memiliki angka desimal"
      ],
      "metadata": {
        "id": "JsUkEiXRCTm3"
      }
    },
    {
      "cell_type": "code",
      "execution_count": null,
      "metadata": {
        "colab": {
          "base_uri": "https://localhost:8080/"
        },
        "id": "70lGEbGYCJVB",
        "outputId": "0ad1c2c6-e917-4e63-8059-ccb34dc27b83"
      },
      "outputs": [
        {
          "output_type": "stream",
          "name": "stdout",
          "text": [
            "39\n"
          ]
        },
        {
          "output_type": "execute_result",
          "data": {
            "text/plain": [
              "int"
            ]
          },
          "metadata": {},
          "execution_count": 3
        }
      ],
      "source": [
        "num = 39\n",
        "print(num)\n",
        "39\n",
        "type(num)"
      ]
    },
    {
      "cell_type": "markdown",
      "source": [
        "**Float**\n",
        "\n",
        "Float adalah angka numerik sama seperti integer , namun ada sedikit perbedaan, yaitu adanya angka desimal"
      ],
      "metadata": {
        "id": "F5MZeCL3EWHb"
      }
    },
    {
      "cell_type": "code",
      "source": [
        "num = 39.0\n",
        "print(num)\n",
        "39.0\n",
        "type(num)"
      ],
      "metadata": {
        "colab": {
          "base_uri": "https://localhost:8080/"
        },
        "id": "GR_Bp1yrEGV9",
        "outputId": "c673b628-0bb9-4a8f-9bc0-72042e49fb3a"
      },
      "execution_count": null,
      "outputs": [
        {
          "output_type": "stream",
          "name": "stdout",
          "text": [
            "39.0\n"
          ]
        },
        {
          "output_type": "execute_result",
          "data": {
            "text/plain": [
              "float"
            ]
          },
          "metadata": {},
          "execution_count": 5
        }
      ]
    },
    {
      "cell_type": "markdown",
      "source": [
        "\n",
        "**String**\n",
        "\n",
        "String adalah kumpulan beberapa karakter atau integer. String tersebut direpresentasikan dengan menggunakan tanda quotes (double ataupun single)."
      ],
      "metadata": {
        "id": "-YsOgNw1ErfY"
      }
    },
    {
      "cell_type": "code",
      "source": [
        "\n",
        "test = \"Hallo semua\"\n",
        "print(test)\n",
        "\"Hallo semua\"\n",
        "type(test)"
      ],
      "metadata": {
        "colab": {
          "base_uri": "https://localhost:8080/"
        },
        "id": "q5ebpHsJEp8R",
        "outputId": "8cad536d-585f-4bf6-8b84-fca7e9150229"
      },
      "execution_count": null,
      "outputs": [
        {
          "output_type": "stream",
          "name": "stdout",
          "text": [
            "Hallo semua\n"
          ]
        },
        {
          "output_type": "execute_result",
          "data": {
            "text/plain": [
              "str"
            ]
          },
          "metadata": {},
          "execution_count": 12
        }
      ]
    },
    {
      "cell_type": "markdown",
      "source": [
        "**Boolean**\n",
        "\n",
        "Boolean adalah operator biner yang hanya memiliki dua nilai output yaitu True atau False."
      ],
      "metadata": {
        "id": "DTvilmJ8Fxtn"
      }
    },
    {
      "cell_type": "code",
      "source": [
        "anda_robot = False\n",
        "print(anda_robot)\n",
        "False\n",
        "type(anda_robot)"
      ],
      "metadata": {
        "colab": {
          "base_uri": "https://localhost:8080/"
        },
        "id": "F_t56H1uGBcB",
        "outputId": "4236e891-be5a-47c9-f24a-e28e7e38fe03"
      },
      "execution_count": null,
      "outputs": [
        {
          "output_type": "stream",
          "name": "stdout",
          "text": [
            "False\n"
          ]
        },
        {
          "output_type": "execute_result",
          "data": {
            "text/plain": [
              "bool"
            ]
          },
          "metadata": {},
          "execution_count": 14
        }
      ]
    },
    {
      "cell_type": "markdown",
      "source": [
        "Di sini kita telah menetapkan nilai False kepada variable anda_robot. Jenis variabel ini adalah boolean. Kita hanya dapat menetapkan True atau False. Perlu di ingat bahwa T dan F harus berupa huruf kapital atau kita akan mendapatkan pesan error code ini:\n",
        "anda_robot = false\n",
        "print(anda_robot)\n",
        "---------------------------------------------------------------------------\n",
        "NameError                                 Traceback (most recent call last)\n",
        "<ipython-input-147-4473960a0737> in <module>\n",
        "----> 1 anda_robot = false\n",
        "      2 print(anda_robot)\n",
        "\n",
        "NameError: name 'false' is not defined"
      ],
      "metadata": {
        "id": "k-0sOglDGJ44"
      }
    },
    {
      "cell_type": "markdown",
      "source": [
        "**NoneType**\n",
        "\n",
        "\n",
        "NoneType digunakan ketika variable tidak memiliki nilai, seperti pada contoh di bawah"
      ],
      "metadata": {
        "id": "8U5wVv2tGZQa"
      }
    },
    {
      "cell_type": "code",
      "source": [
        "num = None\n",
        "print(num)\n",
        "None\n",
        "type(num)"
      ],
      "metadata": {
        "colab": {
          "base_uri": "https://localhost:8080/"
        },
        "id": "lkzBrG67GkxE",
        "outputId": "c8b640d3-221b-4fed-9a1f-0fb789352003"
      },
      "execution_count": null,
      "outputs": [
        {
          "output_type": "stream",
          "name": "stdout",
          "text": [
            "None\n"
          ]
        },
        {
          "output_type": "execute_result",
          "data": {
            "text/plain": [
              "NoneType"
            ]
          },
          "metadata": {},
          "execution_count": 15
        }
      ]
    },
    {
      "cell_type": "markdown",
      "source": [
        "#Operator\n",
        "\n",
        "Operator adalah simbol aritmatika pada bahasa pemrograman Python atau bahasa lainnya"
      ],
      "metadata": {
        "id": "GkUjaYtRGpAo"
      }
    },
    {
      "cell_type": "markdown",
      "source": [
        "\n",
        "**Operator Aritmatika**\n",
        "\n",
        "Operator yang akan kita bahas adalah penambahan, pengurangan, perkalian, eksponensial, modulus, dan pembagian. Mari kita lihat operasi aritmatika sederhana pada bahasa pemrograman Python."
      ],
      "metadata": {
        "id": "99xhfWbKIGxr"
      }
    },
    {
      "cell_type": "code",
      "source": [
        "a= 5\n",
        "b= 3\n",
        "c=a+b\n",
        "print(c)"
      ],
      "metadata": {
        "colab": {
          "base_uri": "https://localhost:8080/"
        },
        "id": "uOc76fCeGvus",
        "outputId": "1c62818f-1274-407e-ec97-2ea0651ad84e"
      },
      "execution_count": null,
      "outputs": [
        {
          "output_type": "stream",
          "name": "stdout",
          "text": [
            "8\n"
          ]
        }
      ]
    },
    {
      "cell_type": "markdown",
      "source": [
        "Untuk lebih jelasnya, dapat kita lihat pada contoh di bawah ini:\n",
        "\n",
        "a + b # Penambahan\n",
        "8\n",
        "a - b # Pengurangan\n",
        "4\n",
        "a * b # Perkalian\n",
        "12\n",
        "a / b # Pembagian\n",
        "3.0\n",
        "a ** b # Eksponensial\n",
        "36\n",
        "\n",
        "Contoh untuk menguji operator aritmatika lainnya:\n",
        "a = 7\n",
        "b = 3\n",
        "a % b # Modulus (sisa pembagian)\n",
        "1\n",
        "a // b # Floor division (di bulatkan ke bawah)\n",
        "2"
      ],
      "metadata": {
        "id": "lCY43j3FJLRK"
      }
    },
    {
      "cell_type": "markdown",
      "source": [
        "**Operator pembanding**\n",
        "\n",
        "Contoh operator pembanding adalah sama dengan, lebih besar dari, serta kurang dari.\n",
        "a = 5\n",
        "b = 2\n",
        "a > b # Lebih besar\n",
        "True\n",
        "a < b # kurang dari\n",
        "False\n",
        "a == b # sama dengan\n",
        "False\n",
        "a >= 5 # lebih besar atau sama dengan\n",
        "True\n",
        "b <= 1 # lebih kecil atau sama dengan\n",
        "False"
      ],
      "metadata": {
        "id": "Fl64cZP5Jnb1"
      }
    },
    {
      "cell_type": "code",
      "source": [
        "a=5\n",
        "b=2\n",
        "c=a>b\n",
        "print(c)"
      ],
      "metadata": {
        "colab": {
          "base_uri": "https://localhost:8080/"
        },
        "id": "MtbbuCijJxPP",
        "outputId": "d7ad5810-5168-4f66-fbe9-c9e4c33bffbc"
      },
      "execution_count": null,
      "outputs": [
        {
          "output_type": "stream",
          "name": "stdout",
          "text": [
            "True\n"
          ]
        }
      ]
    },
    {
      "cell_type": "markdown",
      "source": [
        "**Operator logika**\n",
        "\n",
        "Operator ini \"tidak termasuk\", \"dan\", \"dan atau\"\n",
        "a = 10\n",
        "b = 2\n",
        "a == 2 and b == 10 # dan\n",
        "False\n",
        "a == 10 or b == 10 # atau\n",
        "True\n",
        "not(a == 10) # tidak\n",
        "False\n",
        "not(a == 2)\n",
        "True"
      ],
      "metadata": {
        "id": "7FS0l5S0KXyi"
      }
    },
    {
      "cell_type": "code",
      "source": [
        "a=10\n",
        "b=2\n",
        "a==2 and b==10"
      ],
      "metadata": {
        "colab": {
          "base_uri": "https://localhost:8080/"
        },
        "id": "jhSvFOcnKejP",
        "outputId": "3a77e6ef-af05-4324-b85f-6da02898f127"
      },
      "execution_count": null,
      "outputs": [
        {
          "output_type": "execute_result",
          "data": {
            "text/plain": [
              "False"
            ]
          },
          "metadata": {},
          "execution_count": 21
        }
      ]
    },
    {
      "cell_type": "markdown",
      "source": [
        "#Conditional Statement\n",
        "\n",
        "**Kondisi Pertama**"
      ],
      "metadata": {
        "id": "MCVvRrsrLCQU"
      }
    },
    {
      "cell_type": "code",
      "source": [
        "angka = 5\n",
        "if angka == 10:\n",
        "    print(\"angka adalah 10\")\n",
        "elif angka < 10:\n",
        "    print(\"angka adalah kurang dari 10\")\n",
        "else:\n",
        "    print(\"angka adalah lebih dari 10\")"
      ],
      "metadata": {
        "colab": {
          "base_uri": "https://localhost:8080/"
        },
        "id": "XYNrSxA_LsXM",
        "outputId": "c4a9145a-5eff-461b-b778-4c64f35dbc5d"
      },
      "execution_count": null,
      "outputs": [
        {
          "output_type": "stream",
          "name": "stdout",
          "text": [
            "angka adalah kurang dari 10\n"
          ]
        }
      ]
    },
    {
      "cell_type": "markdown",
      "source": [
        "**Kondisi Kedua**"
      ],
      "metadata": {
        "id": "zp0KgTTjLzAe"
      }
    },
    {
      "cell_type": "code",
      "source": [
        "anda_robot = False\n",
        "if anda_robot:\n",
        "    print (\"Ya, saya robot\")\n",
        "else:\n",
        "    print (\"bukan, saya manusia\")"
      ],
      "metadata": {
        "colab": {
          "base_uri": "https://localhost:8080/"
        },
        "id": "ptUb0UYyL4Xq",
        "outputId": "1592f98a-c827-415e-a04e-b9b11886ca3a"
      },
      "execution_count": null,
      "outputs": [
        {
          "output_type": "stream",
          "name": "stdout",
          "text": [
            "bukan, saya manusia\n"
          ]
        }
      ]
    },
    {
      "cell_type": "markdown",
      "source": [
        "**Kondisi Ketiga**"
      ],
      "metadata": {
        "id": "Al260aXUMDF5"
      }
    },
    {
      "cell_type": "code",
      "source": [
        "anda_robot = False\n",
        "if not anda_robot:\n",
        "    print (\"Ya, saya robot\")\n",
        "else:\n",
        "    print (\"bukan, saya manusia\")"
      ],
      "metadata": {
        "colab": {
          "base_uri": "https://localhost:8080/"
        },
        "id": "7qORd2r2MGcO",
        "outputId": "a9389592-e31b-48fc-8f76-4d427c349d7d"
      },
      "execution_count": null,
      "outputs": [
        {
          "output_type": "stream",
          "name": "stdout",
          "text": [
            "Ya, saya robot\n"
          ]
        }
      ]
    },
    {
      "cell_type": "markdown",
      "source": [
        "**Kondisi Keempat**"
      ],
      "metadata": {
        "id": "xxMPvesLMUha"
      }
    },
    {
      "cell_type": "code",
      "source": [
        "data = None\n",
        "if data:\n",
        "    print (\"data bukan none\")\n",
        "else:\n",
        "    print (\"data adalah none\")"
      ],
      "metadata": {
        "colab": {
          "base_uri": "https://localhost:8080/"
        },
        "id": "uXXUyu7AMXyp",
        "outputId": "037ed5c9-9a59-40ee-8d88-978d165880cc"
      },
      "execution_count": null,
      "outputs": [
        {
          "output_type": "stream",
          "name": "stdout",
          "text": [
            "data adalah none\n"
          ]
        }
      ]
    },
    {
      "cell_type": "markdown",
      "source": [
        "**Kondisi Kelima**"
      ],
      "metadata": {
        "id": "9cQQIKvtMZZF"
      }
    },
    {
      "cell_type": "code",
      "source": [
        "a = 10\n",
        "b = 5\n",
        "if a > b: print(\"a lebih besar dari b\")"
      ],
      "metadata": {
        "colab": {
          "base_uri": "https://localhost:8080/"
        },
        "id": "0nysCyC8Mioi",
        "outputId": "58954fb5-950f-4ac8-81e4-2526d80c695f"
      },
      "execution_count": null,
      "outputs": [
        {
          "output_type": "stream",
          "name": "stdout",
          "text": [
            "a lebih besar dari b\n"
          ]
        }
      ]
    },
    {
      "cell_type": "markdown",
      "source": [
        "**Kondisi Keenam**"
      ],
      "metadata": {
        "id": "QlUhubEkMnyM"
      }
    },
    {
      "cell_type": "code",
      "source": [
        "num = 5\n",
        "print(\"Angka adalah lima \") if num == 5 else print(\"Angka bukan lima\")"
      ],
      "metadata": {
        "colab": {
          "base_uri": "https://localhost:8080/"
        },
        "id": "HwtN-UalMvxL",
        "outputId": "74cabcf1-f6d5-4e69-eab3-d262a1645932"
      },
      "execution_count": null,
      "outputs": [
        {
          "output_type": "stream",
          "name": "stdout",
          "text": [
            "Angka adalah lima \n"
          ]
        }
      ]
    },
    {
      "cell_type": "markdown",
      "source": [
        "**Kondisi Ketujuh**"
      ],
      "metadata": {
        "id": "mvDKASCKM0jz"
      }
    },
    {
      "cell_type": "code",
      "source": [
        "num = 25\n",
        "if num > 10:\n",
        "    print(\"Angka lebih besar dari 10\")\n",
        "    if num > 20:\n",
        "        print(\"Angka lebih besar dari 20\")\n",
        "    if num > 30:\n",
        "        print(\"Angka lebih besar dari 30\")\n",
        "else:\n",
        "    print(\"Angka lebih kecil dari 10\")"
      ],
      "metadata": {
        "colab": {
          "base_uri": "https://localhost:8080/"
        },
        "id": "XsDo0etkM50C",
        "outputId": "29761fd7-04c3-4754-9209-22dd33ee4e25"
      },
      "execution_count": null,
      "outputs": [
        {
          "output_type": "stream",
          "name": "stdout",
          "text": [
            "Angka lebih besar dari 10\n",
            "Angka lebih besar dari 20\n"
          ]
        }
      ]
    },
    {
      "cell_type": "markdown",
      "source": [
        "**Kondisi Kedelapan**"
      ],
      "metadata": {
        "id": "lJzh8gDYNF_f"
      }
    },
    {
      "cell_type": "code",
      "source": [
        "num = 10\n",
        "if num > 5 and num < 15:\n",
        "     print(num)\n",
        "else:\n",
        "     print(\"Angka bisa lebih kecil dari 5 atau lebih besar dari 15\")"
      ],
      "metadata": {
        "colab": {
          "base_uri": "https://localhost:8080/"
        },
        "id": "uMhIPdZsNRk3",
        "outputId": "6fda7efc-8f0b-4d3b-94dd-9452ea53e76d"
      },
      "execution_count": null,
      "outputs": [
        {
          "output_type": "stream",
          "name": "stdout",
          "text": [
            "10\n"
          ]
        }
      ]
    },
    {
      "cell_type": "markdown",
      "source": [
        "**Kondisi Kesembilan**"
      ],
      "metadata": {
        "id": "859nrLaJNT42"
      }
    },
    {
      "cell_type": "code",
      "source": [
        "num = 10\n",
        "if num > 5 or num < 7:\n",
        "     print(num)"
      ],
      "metadata": {
        "colab": {
          "base_uri": "https://localhost:8080/"
        },
        "id": "Yhdg9URONXna",
        "outputId": "05c1828b-b2df-4d76-99dc-50976cd4747b"
      },
      "execution_count": null,
      "outputs": [
        {
          "output_type": "stream",
          "name": "stdout",
          "text": [
            "10\n"
          ]
        }
      ]
    },
    {
      "cell_type": "markdown",
      "source": [
        "#For Loops"
      ],
      "metadata": {
        "id": "9gxLvTuLNhsQ"
      }
    },
    {
      "cell_type": "code",
      "source": [
        "for i in range(3):\n",
        "   print(\"Hai\")"
      ],
      "metadata": {
        "colab": {
          "base_uri": "https://localhost:8080/"
        },
        "id": "-x3gLLD9NseH",
        "outputId": "84f8bc48-b373-4d34-9f9e-b261b263a30f"
      },
      "execution_count": null,
      "outputs": [
        {
          "output_type": "stream",
          "name": "stdout",
          "text": [
            "Hai\n",
            "Hai\n",
            "Hai\n"
          ]
        }
      ]
    }
  ]
}