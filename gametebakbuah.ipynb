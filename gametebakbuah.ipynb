{
  "nbformat": 4,
  "nbformat_minor": 0,
  "metadata": {
    "colab": {
      "provenance": [],
      "authorship_tag": "ABX9TyPaE8/YBl0+OrX8fGVGa3k7",
      "include_colab_link": true
    },
    "kernelspec": {
      "name": "python3",
      "display_name": "Python 3"
    },
    "language_info": {
      "name": "python"
    }
  },
  "cells": [
    {
      "cell_type": "markdown",
      "metadata": {
        "id": "view-in-github",
        "colab_type": "text"
      },
      "source": [
        "<a href=\"https://colab.research.google.com/github/Fariqmr/Tugasplg/blob/main/gametebakbuah.ipynb\" target=\"_parent\"><img src=\"https://colab.research.google.com/assets/colab-badge.svg\" alt=\"Open In Colab\"/></a>"
      ]
    },
    {
      "cell_type": "code",
      "execution_count": 2,
      "metadata": {
        "colab": {
          "base_uri": "https://localhost:8080/"
        },
        "id": "Su3LnR7whC3_",
        "outputId": "f7fe112c-2d30-4ac8-f584-c9ba8af30d48"
      },
      "outputs": [
        {
          "output_type": "stream",
          "name": "stdout",
          "text": [
            "Selamat datang di game Tebak Buah!\n",
            "kamu akan memilih sebuah buah secara acak.\n",
            "Silakan tebak salah satu buah yang ada di bawah ini\n",
            "['apel', 'anggur', 'mangga', 'jeruk', 'durian', 'semangka', 'melon', 'nanas', 'lemon', 'manggis', 'pisang', 'pepaya', 'alpukat', 'nangka', 'pir', 'buah naga']\n",
            "Masukkan tebakan Anda: manggis\n",
            "Tebakan Anda salah. Coba lagi.\n",
            "Masukkan tebakan Anda: pepaya\n",
            "Tebakan Anda salah. Coba lagi.\n",
            "Masukkan tebakan Anda: durian\n",
            "Tebakan Anda salah. Coba lagi.\n",
            "Masukkan tebakan Anda: buah naga\n",
            "Tebakan Anda salah. Coba lagi.\n",
            "Masukkan tebakan Anda: anggur\n",
            "Tebakan Anda salah. Coba lagi.\n",
            "Masukkan tebakan Anda: pisang\n",
            "Tebakan Anda salah. Coba lagi.\n",
            "Masukkan tebakan Anda: apel\n",
            "Anda benar! Buah yang saya pilih adalah apel\n",
            "Terima kasih telah bermain!\n"
          ]
        }
      ],
      "source": [
        "import random\n",
        "\n",
        "buah = ['apel', 'anggur', 'mangga', 'jeruk', 'durian','semangka','melon','nanas','lemon','manggis','pisang','pepaya','alpukat','nangka','pir','buah naga']\n",
        "\n",
        "print(\"Selamat datang di game Tebak Buah!\")\n",
        "print(\"kamu akan memilih sebuah buah secara acak.\")\n",
        "print(\"Silakan tebak salah satu buah yang ada di bawah ini\")\n",
        "print(buah)\n",
        "\n",
        "\n",
        "# Memilih sebuah buah secara acak\n",
        "buah_rahasia = random.choice(buah)\n",
        "\n",
        "# Loop untuk meminta input dari pemain\n",
        "while True:\n",
        "    tebakan = input(\"Masukkan tebakan Anda: \")\n",
        "\n",
        "\n",
        "    # Memeriksa apakah tebakan pemain benar atau salah\n",
        "    if tebakan.lower() == buah_rahasia:\n",
        "        print(\"Anda benar! Buah yang saya pilih adalah\", buah_rahasia)\n",
        "\n",
        "        break\n",
        "    else:\n",
        "        print(\"Tebakan Anda salah. Coba lagi.\")\n",
        "\n",
        "print(\"Terima kasih telah bermain!\")"
      ]
    }
  ]
}